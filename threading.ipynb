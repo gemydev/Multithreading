{
 "cells": [
  {
   "cell_type": "code",
   "execution_count": 25,
   "metadata": {
    "scrolled": true
   },
   "outputs": [
    {
     "name": "stdout",
     "output_type": "stream",
     "text": [
      "Hi Sireesh\n",
      "Hi Nitya\n",
      "Your age isYour age is 15\n",
      "Hi Sireesh\n",
      " 20\n",
      "Hi Nitya\n",
      "Your age isYour age is 15\n",
      " 20\n"
     ]
    }
   ],
   "source": [
    "from threading import *\n",
    "import time\n",
    "\n",
    "def wish(name,age):\n",
    "    for i in range(2):\n",
    "        print(\"Hi\",name)\n",
    "        time.sleep(1)\n",
    "        print(\"Your age is\",age)\n",
    "\n",
    "t1=Thread(target=wish, args=(\"Sireesh\",15))\n",
    "t2=Thread(target=wish, args=(\"Nitya\",20))\n",
    "\n",
    "t1.start()\n",
    "t2.start()"
   ]
  },
  {
   "cell_type": "code",
   "execution_count": 23,
   "metadata": {},
   "outputs": [
    {
     "name": "stdout",
     "output_type": "stream",
     "text": [
      "Hi Sireesh\n",
      "Hi Nitya\n",
      "Your age isYour age is  15\n",
      "Hi Sireesh\n",
      "20\n",
      "Hi Nitya\n",
      "Your age isYour age is 20\n",
      " 15\n"
     ]
    }
   ],
   "source": [
    "from threading import *\n",
    "import time\n",
    "\n",
    "def wish(name,age):\n",
    "    for i in range(2):\n",
    "        print(\"Hi\",name)\n",
    "        time.sleep(2)\n",
    "        print(\"Your age is\",age)\n",
    "\n",
    "t1=Thread(target=wish, args=(\"Sireesh\",15))\n",
    "t2=Thread(target=wish, args=(\"Nitya\",20))\n",
    "\n",
    "t1.start()\n",
    "t2.start()\n",
    "\n",
    "t1.join()\n",
    "t2.join()"
   ]
  },
  {
   "cell_type": "code",
   "execution_count": 5,
   "metadata": {},
   "outputs": [
    {
     "name": "stdout",
     "output_type": "stream",
     "text": [
      "lock acquired\n",
      "lock released\n"
     ]
    }
   ],
   "source": [
    "from threading import *\n",
    "l=Lock()\n",
    "l.acquire()\n",
    "print(\"lock acquired\")\n",
    "l.release()\n",
    "print(\"lock released\")"
   ]
  },
  {
   "cell_type": "code",
   "execution_count": 22,
   "metadata": {},
   "outputs": [
    {
     "name": "stdout",
     "output_type": "stream",
     "text": [
      "Hi Sireesh\n",
      "Your age is 15\n",
      "Hi Sireesh\n",
      "Your age is 15\n",
      "Hi Nitya\n",
      "Your age is 20\n",
      "Hi Nitya\n",
      "Your age is 20\n"
     ]
    }
   ],
   "source": [
    "from threading import *\n",
    "import time\n",
    "l = Lock()\n",
    "def wish(name,age):\n",
    "    for i in range(2):\n",
    "        l.acquire()\n",
    "        print(\"Hi\",name)\n",
    "        time.sleep(1)\n",
    "        print(\"Your age is\",age)\n",
    "        l.release()\n",
    "\n",
    "t1=Thread(target=wish, args=(\"Sireesh\",15))\n",
    "t2=Thread(target=wish, args=(\"Nitya\",20))\n",
    "\n",
    "t1.start()\n",
    "t2.start()"
   ]
  },
  {
   "cell_type": "code",
   "execution_count": 19,
   "metadata": {},
   "outputs": [],
   "source": [
    "from threading import Thread , Lock\n",
    "\n",
    "class ThreadWithResult(Thread):\n",
    "    def __init__(self, group=None, target=None, name=None, args=(), kwargs={}, *, daemon=None):\n",
    "        def function():\n",
    "            self.result = target(*args, **kwargs)\n",
    "        super().__init__(group=group, target=function, name=name, daemon=daemon)\n",
    "\n",
    "lock = Lock()\n",
    "def function_to_thread(n):\n",
    "    count = 0\n",
    "    while count < 3:\n",
    "        print(f'still running thread {n}')\n",
    "        count +=1\n",
    "    result = \"result\"\n",
    "    return result"
   ]
  },
  {
   "cell_type": "code",
   "execution_count": 20,
   "metadata": {},
   "outputs": [
    {
     "name": "stdout",
     "output_type": "stream",
     "text": [
      "still running thread 1\n",
      "still running thread 1\n",
      "still running thread 1\n",
      "still running thread 2\n",
      "still running thread 2\n",
      "still running thread 2\n",
      "result\n",
      "result\n"
     ]
    }
   ],
   "source": [
    "def main():\n",
    "    thread1 = ThreadWithResult(target=function_to_thread, args=(1,))\n",
    "    thread2 = ThreadWithResult(target=function_to_thread, args=(2,))\n",
    "    thread1.start()\n",
    "    thread2.start()\n",
    "    thread1.join()\n",
    "    thread2.join()\n",
    "    print(thread1.result)\n",
    "    print(thread2.result)\n",
    "\n",
    "main()"
   ]
  },
  {
   "cell_type": "code",
   "execution_count": null,
   "metadata": {},
   "outputs": [],
   "source": []
  }
 ],
 "metadata": {
  "kernelspec": {
   "display_name": "Python 3",
   "language": "python",
   "name": "python3"
  },
  "language_info": {
   "codemirror_mode": {
    "name": "ipython",
    "version": 3
   },
   "file_extension": ".py",
   "mimetype": "text/x-python",
   "name": "python",
   "nbconvert_exporter": "python",
   "pygments_lexer": "ipython3",
   "version": "3.7.4"
  }
 },
 "nbformat": 4,
 "nbformat_minor": 2
}
